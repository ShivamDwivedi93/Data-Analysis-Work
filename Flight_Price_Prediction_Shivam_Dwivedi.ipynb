{
 "cells": [
  {
   "cell_type": "markdown",
   "id": "58651635",
   "metadata": {},
   "source": [
    "## Flight Price Prediction (EDA and Feature Engineering)\n"
   ]
  },
  {
   "cell_type": "code",
   "execution_count": 1,
   "id": "05b1aa14",
   "metadata": {},
   "outputs": [],
   "source": [
    "# Importing important libraries\n",
    "\n",
    "import pandas as pd\n",
    "import numpy as np\n",
    "import matplotlib.pyplot as plt\n",
    "import seaborn as sns\n",
    "%matplotlib inline"
   ]
  },
  {
   "cell_type": "code",
   "execution_count": 2,
   "id": "311e2bfb",
   "metadata": {},
   "outputs": [],
   "source": [
    "# Loading data sets.\n",
    "\n",
    "df_train = pd.read_excel('D:\\\\Study\\\\Data Science and Machine Learning\\\\Krish Naik\\\\Live EDA\\\\Flight Delay Data Set\\\\Data_Train.xlsx')\n",
    "df_test = pd.read_excel('D:\\\\Study\\\\Data Science and Machine Learning\\\\Krish Naik\\\\Live EDA\\\\Flight Delay Data Set\\\\Test_set.xlsx')"
   ]
  },
  {
   "cell_type": "code",
   "execution_count": 3,
   "id": "61ed2a57",
   "metadata": {},
   "outputs": [
    {
     "name": "stdout",
     "output_type": "stream",
     "text": [
      "train data set shape: (10683, 11)\n",
      "\n",
      "\n",
      "test data set shape: (2671, 10)\n"
     ]
    }
   ],
   "source": [
    "# Checking the shape of both train and test data sets:\n",
    "\n",
    "print('train data set shape:', df_train.shape)\n",
    "print('\\n')\n",
    "print('test data set shape:', df_test.shape)"
   ]
  },
  {
   "cell_type": "code",
   "execution_count": 4,
   "id": "4bb7f9aa",
   "metadata": {},
   "outputs": [
    {
     "name": "stderr",
     "output_type": "stream",
     "text": [
      "C:\\Users\\Shivam Dwivedi\\AppData\\Local\\Temp\\ipykernel_8672\\708414381.py:3: FutureWarning: The frame.append method is deprecated and will be removed from pandas in a future version. Use pandas.concat instead.\n",
      "  final_df = df_train.append(df_test)\n"
     ]
    }
   ],
   "source": [
    "# Merging both the data set.\n",
    "\n",
    "final_df = df_train.append(df_test)\n"
   ]
  },
  {
   "cell_type": "code",
   "execution_count": 5,
   "id": "6fd07a4a",
   "metadata": {},
   "outputs": [
    {
     "data": {
      "text/plain": [
       "(13354, 11)"
      ]
     },
     "execution_count": 5,
     "metadata": {},
     "output_type": "execute_result"
    }
   ],
   "source": [
    "# Checking the shape of the final_df.\n",
    "\n",
    "final_df.shape"
   ]
  },
  {
   "cell_type": "code",
   "execution_count": 6,
   "id": "e23533ba",
   "metadata": {},
   "outputs": [
    {
     "data": {
      "text/html": [
       "<div>\n",
       "<style scoped>\n",
       "    .dataframe tbody tr th:only-of-type {\n",
       "        vertical-align: middle;\n",
       "    }\n",
       "\n",
       "    .dataframe tbody tr th {\n",
       "        vertical-align: top;\n",
       "    }\n",
       "\n",
       "    .dataframe thead th {\n",
       "        text-align: right;\n",
       "    }\n",
       "</style>\n",
       "<table border=\"1\" class=\"dataframe\">\n",
       "  <thead>\n",
       "    <tr style=\"text-align: right;\">\n",
       "      <th></th>\n",
       "      <th>Airline</th>\n",
       "      <th>Date_of_Journey</th>\n",
       "      <th>Source</th>\n",
       "      <th>Destination</th>\n",
       "      <th>Route</th>\n",
       "      <th>Dep_Time</th>\n",
       "      <th>Arrival_Time</th>\n",
       "      <th>Duration</th>\n",
       "      <th>Total_Stops</th>\n",
       "      <th>Additional_Info</th>\n",
       "      <th>Price</th>\n",
       "    </tr>\n",
       "  </thead>\n",
       "  <tbody>\n",
       "    <tr>\n",
       "      <th>0</th>\n",
       "      <td>IndiGo</td>\n",
       "      <td>24/03/2019</td>\n",
       "      <td>Banglore</td>\n",
       "      <td>New Delhi</td>\n",
       "      <td>BLR → DEL</td>\n",
       "      <td>22:20</td>\n",
       "      <td>01:10 22 Mar</td>\n",
       "      <td>2h 50m</td>\n",
       "      <td>non-stop</td>\n",
       "      <td>No info</td>\n",
       "      <td>3897.0</td>\n",
       "    </tr>\n",
       "    <tr>\n",
       "      <th>1</th>\n",
       "      <td>Air India</td>\n",
       "      <td>1/05/2019</td>\n",
       "      <td>Kolkata</td>\n",
       "      <td>Banglore</td>\n",
       "      <td>CCU → IXR → BBI → BLR</td>\n",
       "      <td>05:50</td>\n",
       "      <td>13:15</td>\n",
       "      <td>7h 25m</td>\n",
       "      <td>2 stops</td>\n",
       "      <td>No info</td>\n",
       "      <td>7662.0</td>\n",
       "    </tr>\n",
       "    <tr>\n",
       "      <th>2</th>\n",
       "      <td>Jet Airways</td>\n",
       "      <td>9/06/2019</td>\n",
       "      <td>Delhi</td>\n",
       "      <td>Cochin</td>\n",
       "      <td>DEL → LKO → BOM → COK</td>\n",
       "      <td>09:25</td>\n",
       "      <td>04:25 10 Jun</td>\n",
       "      <td>19h</td>\n",
       "      <td>2 stops</td>\n",
       "      <td>No info</td>\n",
       "      <td>13882.0</td>\n",
       "    </tr>\n",
       "    <tr>\n",
       "      <th>3</th>\n",
       "      <td>IndiGo</td>\n",
       "      <td>12/05/2019</td>\n",
       "      <td>Kolkata</td>\n",
       "      <td>Banglore</td>\n",
       "      <td>CCU → NAG → BLR</td>\n",
       "      <td>18:05</td>\n",
       "      <td>23:30</td>\n",
       "      <td>5h 25m</td>\n",
       "      <td>1 stop</td>\n",
       "      <td>No info</td>\n",
       "      <td>6218.0</td>\n",
       "    </tr>\n",
       "    <tr>\n",
       "      <th>4</th>\n",
       "      <td>IndiGo</td>\n",
       "      <td>01/03/2019</td>\n",
       "      <td>Banglore</td>\n",
       "      <td>New Delhi</td>\n",
       "      <td>BLR → NAG → DEL</td>\n",
       "      <td>16:50</td>\n",
       "      <td>21:35</td>\n",
       "      <td>4h 45m</td>\n",
       "      <td>1 stop</td>\n",
       "      <td>No info</td>\n",
       "      <td>13302.0</td>\n",
       "    </tr>\n",
       "  </tbody>\n",
       "</table>\n",
       "</div>"
      ],
      "text/plain": [
       "       Airline Date_of_Journey    Source Destination                  Route  \\\n",
       "0       IndiGo      24/03/2019  Banglore   New Delhi              BLR → DEL   \n",
       "1    Air India       1/05/2019   Kolkata    Banglore  CCU → IXR → BBI → BLR   \n",
       "2  Jet Airways       9/06/2019     Delhi      Cochin  DEL → LKO → BOM → COK   \n",
       "3       IndiGo      12/05/2019   Kolkata    Banglore        CCU → NAG → BLR   \n",
       "4       IndiGo      01/03/2019  Banglore   New Delhi        BLR → NAG → DEL   \n",
       "\n",
       "  Dep_Time  Arrival_Time Duration Total_Stops Additional_Info    Price  \n",
       "0    22:20  01:10 22 Mar   2h 50m    non-stop         No info   3897.0  \n",
       "1    05:50         13:15   7h 25m     2 stops         No info   7662.0  \n",
       "2    09:25  04:25 10 Jun      19h     2 stops         No info  13882.0  \n",
       "3    18:05         23:30   5h 25m      1 stop         No info   6218.0  \n",
       "4    16:50         21:35   4h 45m      1 stop         No info  13302.0  "
      ]
     },
     "execution_count": 6,
     "metadata": {},
     "output_type": "execute_result"
    }
   ],
   "source": [
    "# Checking the top 5 rows of the data set.\n",
    "\n",
    "final_df.head()"
   ]
  },
  {
   "cell_type": "code",
   "execution_count": 7,
   "id": "94bc6e7f",
   "metadata": {},
   "outputs": [
    {
     "data": {
      "text/html": [
       "<div>\n",
       "<style scoped>\n",
       "    .dataframe tbody tr th:only-of-type {\n",
       "        vertical-align: middle;\n",
       "    }\n",
       "\n",
       "    .dataframe tbody tr th {\n",
       "        vertical-align: top;\n",
       "    }\n",
       "\n",
       "    .dataframe thead th {\n",
       "        text-align: right;\n",
       "    }\n",
       "</style>\n",
       "<table border=\"1\" class=\"dataframe\">\n",
       "  <thead>\n",
       "    <tr style=\"text-align: right;\">\n",
       "      <th></th>\n",
       "      <th>Airline</th>\n",
       "      <th>Date_of_Journey</th>\n",
       "      <th>Source</th>\n",
       "      <th>Destination</th>\n",
       "      <th>Route</th>\n",
       "      <th>Dep_Time</th>\n",
       "      <th>Arrival_Time</th>\n",
       "      <th>Duration</th>\n",
       "      <th>Total_Stops</th>\n",
       "      <th>Additional_Info</th>\n",
       "      <th>Price</th>\n",
       "    </tr>\n",
       "  </thead>\n",
       "  <tbody>\n",
       "    <tr>\n",
       "      <th>2666</th>\n",
       "      <td>Air India</td>\n",
       "      <td>6/06/2019</td>\n",
       "      <td>Kolkata</td>\n",
       "      <td>Banglore</td>\n",
       "      <td>CCU → DEL → BLR</td>\n",
       "      <td>20:30</td>\n",
       "      <td>20:25 07 Jun</td>\n",
       "      <td>23h 55m</td>\n",
       "      <td>1 stop</td>\n",
       "      <td>No info</td>\n",
       "      <td>NaN</td>\n",
       "    </tr>\n",
       "    <tr>\n",
       "      <th>2667</th>\n",
       "      <td>IndiGo</td>\n",
       "      <td>27/03/2019</td>\n",
       "      <td>Kolkata</td>\n",
       "      <td>Banglore</td>\n",
       "      <td>CCU → BLR</td>\n",
       "      <td>14:20</td>\n",
       "      <td>16:55</td>\n",
       "      <td>2h 35m</td>\n",
       "      <td>non-stop</td>\n",
       "      <td>No info</td>\n",
       "      <td>NaN</td>\n",
       "    </tr>\n",
       "    <tr>\n",
       "      <th>2668</th>\n",
       "      <td>Jet Airways</td>\n",
       "      <td>6/03/2019</td>\n",
       "      <td>Delhi</td>\n",
       "      <td>Cochin</td>\n",
       "      <td>DEL → BOM → COK</td>\n",
       "      <td>21:50</td>\n",
       "      <td>04:25 07 Mar</td>\n",
       "      <td>6h 35m</td>\n",
       "      <td>1 stop</td>\n",
       "      <td>No info</td>\n",
       "      <td>NaN</td>\n",
       "    </tr>\n",
       "    <tr>\n",
       "      <th>2669</th>\n",
       "      <td>Air India</td>\n",
       "      <td>6/03/2019</td>\n",
       "      <td>Delhi</td>\n",
       "      <td>Cochin</td>\n",
       "      <td>DEL → BOM → COK</td>\n",
       "      <td>04:00</td>\n",
       "      <td>19:15</td>\n",
       "      <td>15h 15m</td>\n",
       "      <td>1 stop</td>\n",
       "      <td>No info</td>\n",
       "      <td>NaN</td>\n",
       "    </tr>\n",
       "    <tr>\n",
       "      <th>2670</th>\n",
       "      <td>Multiple carriers</td>\n",
       "      <td>15/06/2019</td>\n",
       "      <td>Delhi</td>\n",
       "      <td>Cochin</td>\n",
       "      <td>DEL → BOM → COK</td>\n",
       "      <td>04:55</td>\n",
       "      <td>19:15</td>\n",
       "      <td>14h 20m</td>\n",
       "      <td>1 stop</td>\n",
       "      <td>No info</td>\n",
       "      <td>NaN</td>\n",
       "    </tr>\n",
       "  </tbody>\n",
       "</table>\n",
       "</div>"
      ],
      "text/plain": [
       "                Airline Date_of_Journey   Source Destination            Route  \\\n",
       "2666          Air India       6/06/2019  Kolkata    Banglore  CCU → DEL → BLR   \n",
       "2667             IndiGo      27/03/2019  Kolkata    Banglore        CCU → BLR   \n",
       "2668        Jet Airways       6/03/2019    Delhi      Cochin  DEL → BOM → COK   \n",
       "2669          Air India       6/03/2019    Delhi      Cochin  DEL → BOM → COK   \n",
       "2670  Multiple carriers      15/06/2019    Delhi      Cochin  DEL → BOM → COK   \n",
       "\n",
       "     Dep_Time  Arrival_Time Duration Total_Stops Additional_Info  Price  \n",
       "2666    20:30  20:25 07 Jun  23h 55m      1 stop         No info    NaN  \n",
       "2667    14:20         16:55   2h 35m    non-stop         No info    NaN  \n",
       "2668    21:50  04:25 07 Mar   6h 35m      1 stop         No info    NaN  \n",
       "2669    04:00         19:15  15h 15m      1 stop         No info    NaN  \n",
       "2670    04:55         19:15  14h 20m      1 stop         No info    NaN  "
      ]
     },
     "execution_count": 7,
     "metadata": {},
     "output_type": "execute_result"
    }
   ],
   "source": [
    "# Checking last 5 rows of the data set.\n",
    "\n",
    "final_df.tail()"
   ]
  },
  {
   "cell_type": "code",
   "execution_count": 8,
   "id": "1df97aa0",
   "metadata": {},
   "outputs": [
    {
     "name": "stdout",
     "output_type": "stream",
     "text": [
      "<class 'pandas.core.frame.DataFrame'>\n",
      "Int64Index: 13354 entries, 0 to 2670\n",
      "Data columns (total 11 columns):\n",
      " #   Column           Non-Null Count  Dtype  \n",
      "---  ------           --------------  -----  \n",
      " 0   Airline          13354 non-null  object \n",
      " 1   Date_of_Journey  13354 non-null  object \n",
      " 2   Source           13354 non-null  object \n",
      " 3   Destination      13354 non-null  object \n",
      " 4   Route            13353 non-null  object \n",
      " 5   Dep_Time         13354 non-null  object \n",
      " 6   Arrival_Time     13354 non-null  object \n",
      " 7   Duration         13354 non-null  object \n",
      " 8   Total_Stops      13353 non-null  object \n",
      " 9   Additional_Info  13354 non-null  object \n",
      " 10  Price            10683 non-null  float64\n",
      "dtypes: float64(1), object(10)\n",
      "memory usage: 1.2+ MB\n"
     ]
    }
   ],
   "source": [
    "# Checking the info of the data set.\n",
    "\n",
    "final_df.info()"
   ]
  },
  {
   "cell_type": "code",
   "execution_count": 9,
   "id": "f676f24d",
   "metadata": {},
   "outputs": [
    {
     "data": {
      "text/plain": [
       "Airline               0\n",
       "Date_of_Journey       0\n",
       "Source                0\n",
       "Destination           0\n",
       "Route                 1\n",
       "Dep_Time              0\n",
       "Arrival_Time          0\n",
       "Duration              0\n",
       "Total_Stops           1\n",
       "Additional_Info       0\n",
       "Price              2671\n",
       "dtype: int64"
      ]
     },
     "execution_count": 9,
     "metadata": {},
     "output_type": "execute_result"
    }
   ],
   "source": [
    "# Checking null values in the data set.\n",
    "\n",
    "final_df.isnull().sum()"
   ]
  },
  {
   "cell_type": "markdown",
   "id": "1ca2b04d",
   "metadata": {},
   "source": [
    "## Feature Engineering Process"
   ]
  },
  {
   "cell_type": "code",
   "execution_count": 10,
   "id": "f00f99a1",
   "metadata": {},
   "outputs": [],
   "source": [
    "# Splitting Data, Month and Year from 'Date_of_Journey'.\n",
    "\n",
    "final_df['Date'] = final_df['Date_of_Journey'].str.split('/').str[0]\n",
    "final_df['Month'] = final_df['Date_of_Journey'].str.split('/').str[1]\n",
    "final_df['Year'] = final_df['Date_of_Journey'].str.split('/').str[2]"
   ]
  },
  {
   "cell_type": "code",
   "execution_count": 11,
   "id": "2ee297a2",
   "metadata": {},
   "outputs": [],
   "source": [
    "## Another technique or code for splitting the Date of Journey column in 'Date', 'Month' and 'Year'\n",
    "\n",
    "# final_df['Date'] = final_df['Date_of_Journey'].apply(lambda x:x.split(\"/\")[0])\n",
    "# final_df['Month'] = final_df['Date_of_Journey'].apply(lambda x:x.split(\"/\")[1])\n",
    "# final_df['Year'] = final_df['Date_of_Journey'].apply(lambda x:x.split(\"/\")[2])"
   ]
  },
  {
   "cell_type": "code",
   "execution_count": 12,
   "id": "febae3ad",
   "metadata": {},
   "outputs": [
    {
     "data": {
      "text/html": [
       "<div>\n",
       "<style scoped>\n",
       "    .dataframe tbody tr th:only-of-type {\n",
       "        vertical-align: middle;\n",
       "    }\n",
       "\n",
       "    .dataframe tbody tr th {\n",
       "        vertical-align: top;\n",
       "    }\n",
       "\n",
       "    .dataframe thead th {\n",
       "        text-align: right;\n",
       "    }\n",
       "</style>\n",
       "<table border=\"1\" class=\"dataframe\">\n",
       "  <thead>\n",
       "    <tr style=\"text-align: right;\">\n",
       "      <th></th>\n",
       "      <th>Airline</th>\n",
       "      <th>Date_of_Journey</th>\n",
       "      <th>Source</th>\n",
       "      <th>Destination</th>\n",
       "      <th>Route</th>\n",
       "      <th>Dep_Time</th>\n",
       "      <th>Arrival_Time</th>\n",
       "      <th>Duration</th>\n",
       "      <th>Total_Stops</th>\n",
       "      <th>Additional_Info</th>\n",
       "      <th>Price</th>\n",
       "      <th>Date</th>\n",
       "      <th>Month</th>\n",
       "      <th>Year</th>\n",
       "    </tr>\n",
       "  </thead>\n",
       "  <tbody>\n",
       "    <tr>\n",
       "      <th>0</th>\n",
       "      <td>IndiGo</td>\n",
       "      <td>24/03/2019</td>\n",
       "      <td>Banglore</td>\n",
       "      <td>New Delhi</td>\n",
       "      <td>BLR → DEL</td>\n",
       "      <td>22:20</td>\n",
       "      <td>01:10 22 Mar</td>\n",
       "      <td>2h 50m</td>\n",
       "      <td>non-stop</td>\n",
       "      <td>No info</td>\n",
       "      <td>3897.0</td>\n",
       "      <td>24</td>\n",
       "      <td>03</td>\n",
       "      <td>2019</td>\n",
       "    </tr>\n",
       "    <tr>\n",
       "      <th>1</th>\n",
       "      <td>Air India</td>\n",
       "      <td>1/05/2019</td>\n",
       "      <td>Kolkata</td>\n",
       "      <td>Banglore</td>\n",
       "      <td>CCU → IXR → BBI → BLR</td>\n",
       "      <td>05:50</td>\n",
       "      <td>13:15</td>\n",
       "      <td>7h 25m</td>\n",
       "      <td>2 stops</td>\n",
       "      <td>No info</td>\n",
       "      <td>7662.0</td>\n",
       "      <td>1</td>\n",
       "      <td>05</td>\n",
       "      <td>2019</td>\n",
       "    </tr>\n",
       "  </tbody>\n",
       "</table>\n",
       "</div>"
      ],
      "text/plain": [
       "     Airline Date_of_Journey    Source Destination                  Route  \\\n",
       "0     IndiGo      24/03/2019  Banglore   New Delhi              BLR → DEL   \n",
       "1  Air India       1/05/2019   Kolkata    Banglore  CCU → IXR → BBI → BLR   \n",
       "\n",
       "  Dep_Time  Arrival_Time Duration Total_Stops Additional_Info   Price Date  \\\n",
       "0    22:20  01:10 22 Mar   2h 50m    non-stop         No info  3897.0   24   \n",
       "1    05:50         13:15   7h 25m     2 stops         No info  7662.0    1   \n",
       "\n",
       "  Month  Year  \n",
       "0    03  2019  \n",
       "1    05  2019  "
      ]
     },
     "execution_count": 12,
     "metadata": {},
     "output_type": "execute_result"
    }
   ],
   "source": [
    "# Checking the newly made columns in the data set.\n",
    "\n",
    "final_df.head(2)"
   ]
  },
  {
   "cell_type": "code",
   "execution_count": 13,
   "id": "ad009338",
   "metadata": {},
   "outputs": [],
   "source": [
    "# Converting the data type of columns 'Date', 'Month', and 'Year' from object to int.\n",
    "\n",
    "final_df['Date'] = final_df['Date'].astype(int)\n",
    "final_df['Month'] = final_df['Month'].astype(int)\n",
    "final_df['Year'] = final_df['Year'].astype(int)"
   ]
  },
  {
   "cell_type": "code",
   "execution_count": 14,
   "id": "da383f74",
   "metadata": {},
   "outputs": [],
   "source": [
    "# Dropping the 'Date_of_Journey' column from the data set.\n",
    "\n",
    "final_df.drop('Date_of_Journey',axis=1,inplace=True)"
   ]
  },
  {
   "cell_type": "code",
   "execution_count": 15,
   "id": "b88c37dd",
   "metadata": {},
   "outputs": [],
   "source": [
    "# Splitting the date and day from 'Arrival_Time' column.\n",
    "\n",
    "#final_df['Arrival_Time'] = final_df['Arrival_Time'].str.split(' ').str[0]\n",
    "#final_df['Arrival_Time']"
   ]
  },
  {
   "cell_type": "code",
   "execution_count": 16,
   "id": "25cb7712",
   "metadata": {},
   "outputs": [
    {
     "data": {
      "text/plain": [
       "0       01:10\n",
       "1       13:15\n",
       "2       04:25\n",
       "3       23:30\n",
       "4       21:35\n",
       "        ...  \n",
       "2666    20:25\n",
       "2667    16:55\n",
       "2668    04:25\n",
       "2669    19:15\n",
       "2670    19:15\n",
       "Name: Arrival_Time, Length: 13354, dtype: object"
      ]
     },
     "execution_count": 16,
     "metadata": {},
     "output_type": "execute_result"
    }
   ],
   "source": [
    "# Another code to split the date and day from 'Arrival_Time' column.\n",
    "\n",
    "final_df['Arrival_Time'] = final_df['Arrival_Time'].apply(lambda x : x.split(' ')[0])\n",
    "final_df['Arrival_Time']"
   ]
  },
  {
   "cell_type": "code",
   "execution_count": 17,
   "id": "ddd4c353",
   "metadata": {},
   "outputs": [
    {
     "name": "stdout",
     "output_type": "stream",
     "text": [
      "0       01\n",
      "1       13\n",
      "2       04\n",
      "3       23\n",
      "4       21\n",
      "        ..\n",
      "2666    20\n",
      "2667    16\n",
      "2668    04\n",
      "2669    19\n",
      "2670    19\n",
      "Name: Arrival_Hour, Length: 13354, dtype: object\n",
      "\n",
      "\n",
      "0       10\n",
      "1       15\n",
      "2       25\n",
      "3       30\n",
      "4       35\n",
      "        ..\n",
      "2666    25\n",
      "2667    55\n",
      "2668    25\n",
      "2669    15\n",
      "2670    15\n",
      "Name: Arrival_Min, Length: 13354, dtype: object\n"
     ]
    }
   ],
   "source": [
    "# Splitting the 'Arrival Time' column into hours and minutes.\n",
    "\n",
    "final_df['Arrival_Hour'] = final_df['Arrival_Time'].apply(lambda x : x.split(':')[0])\n",
    "final_df['Arrival_Min'] = final_df['Arrival_Time'].apply(lambda x : x.split(':')[1])\n",
    "print(final_df['Arrival_Hour'])\n",
    "print('\\n')\n",
    "print(final_df['Arrival_Min'])"
   ]
  },
  {
   "cell_type": "code",
   "execution_count": 18,
   "id": "ba8e9917",
   "metadata": {},
   "outputs": [
    {
     "data": {
      "text/plain": [
       "Index(['Airline', 'Source', 'Destination', 'Route', 'Dep_Time', 'Arrival_Time',\n",
       "       'Duration', 'Total_Stops', 'Additional_Info', 'Price', 'Date', 'Month',\n",
       "       'Year', 'Arrival_Hour', 'Arrival_Min'],\n",
       "      dtype='object')"
      ]
     },
     "execution_count": 18,
     "metadata": {},
     "output_type": "execute_result"
    }
   ],
   "source": [
    "final_df.columns"
   ]
  },
  {
   "cell_type": "code",
   "execution_count": 19,
   "id": "4a52fd30",
   "metadata": {},
   "outputs": [],
   "source": [
    "# Converting the datatype of \"Arrival_Hour\" and \"Arrival_Min\" from object to int.\n",
    "\n",
    "final_df['Arrival_Hour'] = final_df['Arrival_Hour'].astype(int)\n",
    "final_df['Arrival_Min'] = final_df['Arrival_Min'].astype(int)"
   ]
  },
  {
   "cell_type": "code",
   "execution_count": 20,
   "id": "2cbb2cd9",
   "metadata": {},
   "outputs": [],
   "source": [
    "# Dropping the 'Arrival_Time' column from the dataset..\n",
    "\n",
    "final_df.drop('Arrival_Time',axis=1,inplace=True)"
   ]
  },
  {
   "cell_type": "code",
   "execution_count": 21,
   "id": "852fc92e",
   "metadata": {},
   "outputs": [
    {
     "name": "stdout",
     "output_type": "stream",
     "text": [
      "final_df[Departure_Hour]: \n",
      " 0       22\n",
      "1       05\n",
      "2       09\n",
      "3       18\n",
      "4       16\n",
      "        ..\n",
      "2666    20\n",
      "2667    14\n",
      "2668    21\n",
      "2669    04\n",
      "2670    04\n",
      "Name: Departure_Hour, Length: 13354, dtype: object\n",
      "\n",
      "\n",
      "final_df[Departure_Min]: \n",
      " 0       20\n",
      "1       50\n",
      "2       25\n",
      "3       05\n",
      "4       50\n",
      "        ..\n",
      "2666    30\n",
      "2667    20\n",
      "2668    50\n",
      "2669    00\n",
      "2670    55\n",
      "Name: Departure_Min, Length: 13354, dtype: object\n"
     ]
    }
   ],
   "source": [
    "# Splitting the \"Dep_Time\" into 'Departure_Hour' and 'Departure_Min'.\n",
    "\n",
    "final_df['Departure_Hour'] = final_df['Dep_Time'].apply(lambda x : x.split(':')[0])\n",
    "print('final_df[Departure_Hour]: \\n', final_df['Departure_Hour'])\n",
    "print('\\n')\n",
    "final_df['Departure_Min'] = final_df['Dep_Time'].apply(lambda x : x.split(':')[1])\n",
    "print('final_df[Departure_Min]: \\n',final_df['Departure_Min'])"
   ]
  },
  {
   "cell_type": "code",
   "execution_count": 22,
   "id": "2869c789",
   "metadata": {},
   "outputs": [],
   "source": [
    "# Converting the data type of Departure_Hour and Departure_Min from object to int.\n",
    "\n",
    "final_df['Departure_Hour'] = final_df['Departure_Hour'].astype(int)\n",
    "final_df['Departure_Min'] = final_df['Departure_Min'].astype(int)"
   ]
  },
  {
   "cell_type": "code",
   "execution_count": 23,
   "id": "77b07830",
   "metadata": {},
   "outputs": [],
   "source": [
    "# Dropping the Dep_Time Column from the data set.\n",
    "\n",
    "final_df.drop('Dep_Time',axis=1,inplace=True)"
   ]
  },
  {
   "cell_type": "code",
   "execution_count": 24,
   "id": "b69ed671",
   "metadata": {},
   "outputs": [
    {
     "data": {
      "text/plain": [
       "Index(['Airline', 'Source', 'Destination', 'Route', 'Duration', 'Total_Stops',\n",
       "       'Additional_Info', 'Price', 'Date', 'Month', 'Year', 'Arrival_Hour',\n",
       "       'Arrival_Min', 'Departure_Hour', 'Departure_Min'],\n",
       "      dtype='object')"
      ]
     },
     "execution_count": 24,
     "metadata": {},
     "output_type": "execute_result"
    }
   ],
   "source": [
    "final_df.columns"
   ]
  },
  {
   "cell_type": "code",
   "execution_count": 25,
   "id": "08978b05",
   "metadata": {},
   "outputs": [
    {
     "data": {
      "text/plain": [
       "array(['non-stop', '2 stops', '1 stop', '3 stops', nan, '4 stops'],\n",
       "      dtype=object)"
      ]
     },
     "execution_count": 25,
     "metadata": {},
     "output_type": "execute_result"
    }
   ],
   "source": [
    "# Checking the unique values in the Total_Stops column.\n",
    "\n",
    "final_df['Total_Stops'].unique()"
   ]
  },
  {
   "cell_type": "code",
   "execution_count": 26,
   "id": "64bf2592",
   "metadata": {},
   "outputs": [],
   "source": [
    "# Encoding the categorical values by using map function.\n",
    "\n",
    "final_df['Total_Stops'] = final_df['Total_Stops'].map({'non-stop':0,'1 stop':1, '2 stops':2, '3 stops':3, '4 stops':4, 'nan':2})"
   ]
  },
  {
   "cell_type": "code",
   "execution_count": 27,
   "id": "65dd46ba",
   "metadata": {},
   "outputs": [
    {
     "data": {
      "text/html": [
       "<div>\n",
       "<style scoped>\n",
       "    .dataframe tbody tr th:only-of-type {\n",
       "        vertical-align: middle;\n",
       "    }\n",
       "\n",
       "    .dataframe tbody tr th {\n",
       "        vertical-align: top;\n",
       "    }\n",
       "\n",
       "    .dataframe thead th {\n",
       "        text-align: right;\n",
       "    }\n",
       "</style>\n",
       "<table border=\"1\" class=\"dataframe\">\n",
       "  <thead>\n",
       "    <tr style=\"text-align: right;\">\n",
       "      <th></th>\n",
       "      <th>Airline</th>\n",
       "      <th>Source</th>\n",
       "      <th>Destination</th>\n",
       "      <th>Route</th>\n",
       "      <th>Duration</th>\n",
       "      <th>Total_Stops</th>\n",
       "      <th>Additional_Info</th>\n",
       "      <th>Price</th>\n",
       "      <th>Date</th>\n",
       "      <th>Month</th>\n",
       "      <th>Year</th>\n",
       "      <th>Arrival_Hour</th>\n",
       "      <th>Arrival_Min</th>\n",
       "      <th>Departure_Hour</th>\n",
       "      <th>Departure_Min</th>\n",
       "    </tr>\n",
       "  </thead>\n",
       "  <tbody>\n",
       "    <tr>\n",
       "      <th>9039</th>\n",
       "      <td>Air India</td>\n",
       "      <td>Delhi</td>\n",
       "      <td>Cochin</td>\n",
       "      <td>NaN</td>\n",
       "      <td>23h 40m</td>\n",
       "      <td>NaN</td>\n",
       "      <td>No info</td>\n",
       "      <td>7480.0</td>\n",
       "      <td>6</td>\n",
       "      <td>5</td>\n",
       "      <td>2019</td>\n",
       "      <td>9</td>\n",
       "      <td>25</td>\n",
       "      <td>9</td>\n",
       "      <td>45</td>\n",
       "    </tr>\n",
       "  </tbody>\n",
       "</table>\n",
       "</div>"
      ],
      "text/plain": [
       "        Airline Source Destination Route Duration  Total_Stops  \\\n",
       "9039  Air India  Delhi      Cochin   NaN  23h 40m          NaN   \n",
       "\n",
       "     Additional_Info   Price  Date  Month  Year  Arrival_Hour  Arrival_Min  \\\n",
       "9039         No info  7480.0     6      5  2019             9           25   \n",
       "\n",
       "      Departure_Hour  Departure_Min  \n",
       "9039               9             45  "
      ]
     },
     "execution_count": 27,
     "metadata": {},
     "output_type": "execute_result"
    }
   ],
   "source": [
    "# Checking the row of null value of Total_Stops.\n",
    "\n",
    "final_df[final_df['Total_Stops'].isnull()]"
   ]
  },
  {
   "cell_type": "code",
   "execution_count": 28,
   "id": "b1418325",
   "metadata": {},
   "outputs": [
    {
     "data": {
      "text/html": [
       "<div>\n",
       "<style scoped>\n",
       "    .dataframe tbody tr th:only-of-type {\n",
       "        vertical-align: middle;\n",
       "    }\n",
       "\n",
       "    .dataframe tbody tr th {\n",
       "        vertical-align: top;\n",
       "    }\n",
       "\n",
       "    .dataframe thead th {\n",
       "        text-align: right;\n",
       "    }\n",
       "</style>\n",
       "<table border=\"1\" class=\"dataframe\">\n",
       "  <thead>\n",
       "    <tr style=\"text-align: right;\">\n",
       "      <th></th>\n",
       "      <th>Airline</th>\n",
       "      <th>Source</th>\n",
       "      <th>Destination</th>\n",
       "      <th>Route</th>\n",
       "      <th>Duration</th>\n",
       "      <th>Total_Stops</th>\n",
       "      <th>Additional_Info</th>\n",
       "      <th>Price</th>\n",
       "      <th>Date</th>\n",
       "      <th>Month</th>\n",
       "      <th>Year</th>\n",
       "      <th>Arrival_Hour</th>\n",
       "      <th>Arrival_Min</th>\n",
       "      <th>Departure_Hour</th>\n",
       "      <th>Departure_Min</th>\n",
       "    </tr>\n",
       "  </thead>\n",
       "  <tbody>\n",
       "    <tr>\n",
       "      <th>0</th>\n",
       "      <td>IndiGo</td>\n",
       "      <td>Banglore</td>\n",
       "      <td>New Delhi</td>\n",
       "      <td>BLR → DEL</td>\n",
       "      <td>2h 50m</td>\n",
       "      <td>0.0</td>\n",
       "      <td>No info</td>\n",
       "      <td>3897.0</td>\n",
       "      <td>24</td>\n",
       "      <td>3</td>\n",
       "      <td>2019</td>\n",
       "      <td>1</td>\n",
       "      <td>10</td>\n",
       "      <td>22</td>\n",
       "      <td>20</td>\n",
       "    </tr>\n",
       "    <tr>\n",
       "      <th>1</th>\n",
       "      <td>Air India</td>\n",
       "      <td>Kolkata</td>\n",
       "      <td>Banglore</td>\n",
       "      <td>CCU → IXR → BBI → BLR</td>\n",
       "      <td>7h 25m</td>\n",
       "      <td>2.0</td>\n",
       "      <td>No info</td>\n",
       "      <td>7662.0</td>\n",
       "      <td>1</td>\n",
       "      <td>5</td>\n",
       "      <td>2019</td>\n",
       "      <td>13</td>\n",
       "      <td>15</td>\n",
       "      <td>5</td>\n",
       "      <td>50</td>\n",
       "    </tr>\n",
       "  </tbody>\n",
       "</table>\n",
       "</div>"
      ],
      "text/plain": [
       "     Airline    Source Destination                  Route Duration  \\\n",
       "0     IndiGo  Banglore   New Delhi              BLR → DEL   2h 50m   \n",
       "1  Air India   Kolkata    Banglore  CCU → IXR → BBI → BLR   7h 25m   \n",
       "\n",
       "   Total_Stops Additional_Info   Price  Date  Month  Year  Arrival_Hour  \\\n",
       "0          0.0         No info  3897.0    24      3  2019             1   \n",
       "1          2.0         No info  7662.0     1      5  2019            13   \n",
       "\n",
       "   Arrival_Min  Departure_Hour  Departure_Min  \n",
       "0           10              22             20  \n",
       "1           15               5             50  "
      ]
     },
     "execution_count": 28,
     "metadata": {},
     "output_type": "execute_result"
    }
   ],
   "source": [
    "# Checking the top 5 rows of the data set again.\n",
    "\n",
    "final_df.head(2)"
   ]
  },
  {
   "cell_type": "code",
   "execution_count": 29,
   "id": "437dafe1",
   "metadata": {},
   "outputs": [],
   "source": [
    "# Dropping the 'Route' column from the data set.\n",
    "\n",
    "final_df.drop('Route',axis=1,inplace=True)"
   ]
  },
  {
   "cell_type": "code",
   "execution_count": 30,
   "id": "0f3a1298",
   "metadata": {},
   "outputs": [
    {
     "name": "stdout",
     "output_type": "stream",
     "text": [
      "0        2\n",
      "1        7\n",
      "2       19\n",
      "3        5\n",
      "4        4\n",
      "        ..\n",
      "2666    23\n",
      "2667     2\n",
      "2668     6\n",
      "2669    15\n",
      "2670    14\n",
      "Name: Duration_Hour, Length: 13354, dtype: object\n",
      "\n",
      "\n"
     ]
    }
   ],
   "source": [
    "# Checking the Duration Column and splitting the Duration into Duration_Hour and Duration_Min\n",
    "\n",
    "final_df['Duration_Hour'] = final_df['Duration'].str.split(' ').str[0].str.split('h').str[0]\n",
    "print(final_df['Duration_Hour'])\n",
    "print('\\n')\n",
    "#final_df['Duration_Min'] = final_df['Duration'].str.split(' ').str[1].str.split('m').str[0]\n",
    "#print(final_df['Duration_Min'])"
   ]
  },
  {
   "cell_type": "code",
   "execution_count": 31,
   "id": "b68f03ce",
   "metadata": {},
   "outputs": [
    {
     "data": {
      "text/plain": [
       "Index(['Airline', 'Source', 'Destination', 'Duration', 'Total_Stops',\n",
       "       'Additional_Info', 'Price', 'Date', 'Month', 'Year', 'Arrival_Hour',\n",
       "       'Arrival_Min', 'Departure_Hour', 'Departure_Min', 'Duration_Hour'],\n",
       "      dtype='object')"
      ]
     },
     "execution_count": 31,
     "metadata": {},
     "output_type": "execute_result"
    }
   ],
   "source": [
    "final_df.columns"
   ]
  },
  {
   "cell_type": "code",
   "execution_count": 38,
   "id": "6927c5a5",
   "metadata": {},
   "outputs": [
    {
     "data": {
      "text/html": [
       "<div>\n",
       "<style scoped>\n",
       "    .dataframe tbody tr th:only-of-type {\n",
       "        vertical-align: middle;\n",
       "    }\n",
       "\n",
       "    .dataframe tbody tr th {\n",
       "        vertical-align: top;\n",
       "    }\n",
       "\n",
       "    .dataframe thead th {\n",
       "        text-align: right;\n",
       "    }\n",
       "</style>\n",
       "<table border=\"1\" class=\"dataframe\">\n",
       "  <thead>\n",
       "    <tr style=\"text-align: right;\">\n",
       "      <th></th>\n",
       "      <th>Airline</th>\n",
       "      <th>Source</th>\n",
       "      <th>Destination</th>\n",
       "      <th>Duration</th>\n",
       "      <th>Total_Stops</th>\n",
       "      <th>Additional_Info</th>\n",
       "      <th>Price</th>\n",
       "      <th>Date</th>\n",
       "      <th>Month</th>\n",
       "      <th>Year</th>\n",
       "      <th>Arrival_Hour</th>\n",
       "      <th>Arrival_Min</th>\n",
       "      <th>Departure_Hour</th>\n",
       "      <th>Departure_Min</th>\n",
       "      <th>Duration_Hour</th>\n",
       "    </tr>\n",
       "  </thead>\n",
       "  <tbody>\n",
       "    <tr>\n",
       "      <th>6474</th>\n",
       "      <td>Air India</td>\n",
       "      <td>Mumbai</td>\n",
       "      <td>Hyderabad</td>\n",
       "      <td>5m</td>\n",
       "      <td>2.0</td>\n",
       "      <td>No info</td>\n",
       "      <td>17327.0</td>\n",
       "      <td>6</td>\n",
       "      <td>3</td>\n",
       "      <td>2019</td>\n",
       "      <td>16</td>\n",
       "      <td>55</td>\n",
       "      <td>16</td>\n",
       "      <td>50</td>\n",
       "      <td>5m</td>\n",
       "    </tr>\n",
       "    <tr>\n",
       "      <th>2660</th>\n",
       "      <td>Air India</td>\n",
       "      <td>Mumbai</td>\n",
       "      <td>Hyderabad</td>\n",
       "      <td>5m</td>\n",
       "      <td>2.0</td>\n",
       "      <td>No info</td>\n",
       "      <td>NaN</td>\n",
       "      <td>12</td>\n",
       "      <td>3</td>\n",
       "      <td>2019</td>\n",
       "      <td>16</td>\n",
       "      <td>55</td>\n",
       "      <td>16</td>\n",
       "      <td>50</td>\n",
       "      <td>5m</td>\n",
       "    </tr>\n",
       "  </tbody>\n",
       "</table>\n",
       "</div>"
      ],
      "text/plain": [
       "        Airline  Source Destination Duration  Total_Stops Additional_Info  \\\n",
       "6474  Air India  Mumbai   Hyderabad       5m          2.0         No info   \n",
       "2660  Air India  Mumbai   Hyderabad       5m          2.0         No info   \n",
       "\n",
       "        Price  Date  Month  Year  Arrival_Hour  Arrival_Min  Departure_Hour  \\\n",
       "6474  17327.0     6      3  2019            16           55              16   \n",
       "2660      NaN    12      3  2019            16           55              16   \n",
       "\n",
       "      Departure_Min Duration_Hour  \n",
       "6474             50            5m  \n",
       "2660             50            5m  "
      ]
     },
     "execution_count": 38,
     "metadata": {},
     "output_type": "execute_result"
    }
   ],
   "source": [
    "# Finding the anamoly ('5m') in the 'Duration_Hour' column and dropping the row.\n",
    "\n",
    "final_df[final_df['Duration_Hour']=='5m']"
   ]
  },
  {
   "cell_type": "code",
   "execution_count": 39,
   "id": "173a8fd1",
   "metadata": {},
   "outputs": [],
   "source": [
    "# Dropping the rows 6474 and 2660.\n",
    "\n",
    "final_df.drop(6474,axis=0,inplace=True)\n",
    "final_df.drop(2660, axis=0, inplace=True)"
   ]
  },
  {
   "cell_type": "code",
   "execution_count": 40,
   "id": "d33220f8",
   "metadata": {},
   "outputs": [],
   "source": [
    "# Changing the data type of final_df['Duration_Hour'] to int and converting it to minutes by multiplying it by 60.\n",
    " \n",
    "final_df['Duration_Hour'] = final_df['Duration_Hour'].astype(int)\n"
   ]
  },
  {
   "cell_type": "code",
   "execution_count": 41,
   "id": "a250da58",
   "metadata": {},
   "outputs": [],
   "source": [
    "# Dropping the 'Duration' column.\n",
    "\n",
    "final_df.drop('Duration',axis=1,inplace=True)"
   ]
  },
  {
   "cell_type": "code",
   "execution_count": 42,
   "id": "ed430b85",
   "metadata": {},
   "outputs": [
    {
     "data": {
      "text/plain": [
       "Index(['Airline', 'Source', 'Destination', 'Total_Stops', 'Additional_Info',\n",
       "       'Price', 'Date', 'Month', 'Year', 'Arrival_Hour', 'Arrival_Min',\n",
       "       'Departure_Hour', 'Departure_Min', 'Duration_Hour'],\n",
       "      dtype='object')"
      ]
     },
     "execution_count": 42,
     "metadata": {},
     "output_type": "execute_result"
    }
   ],
   "source": [
    "final_df.columns"
   ]
  },
  {
   "cell_type": "code",
   "execution_count": 43,
   "id": "fb37590a",
   "metadata": {},
   "outputs": [
    {
     "name": "stdout",
     "output_type": "stream",
     "text": [
      "<class 'pandas.core.frame.DataFrame'>\n",
      "Int64Index: 13351 entries, 0 to 2670\n",
      "Data columns (total 14 columns):\n",
      " #   Column           Non-Null Count  Dtype  \n",
      "---  ------           --------------  -----  \n",
      " 0   Airline          13351 non-null  object \n",
      " 1   Source           13351 non-null  object \n",
      " 2   Destination      13351 non-null  object \n",
      " 3   Total_Stops      13350 non-null  float64\n",
      " 4   Additional_Info  13351 non-null  object \n",
      " 5   Price            10681 non-null  float64\n",
      " 6   Date             13351 non-null  int32  \n",
      " 7   Month            13351 non-null  int32  \n",
      " 8   Year             13351 non-null  int32  \n",
      " 9   Arrival_Hour     13351 non-null  int32  \n",
      " 10  Arrival_Min      13351 non-null  int32  \n",
      " 11  Departure_Hour   13351 non-null  int32  \n",
      " 12  Departure_Min    13351 non-null  int32  \n",
      " 13  Duration_Hour    13351 non-null  int32  \n",
      "dtypes: float64(2), int32(8), object(4)\n",
      "memory usage: 1.1+ MB\n"
     ]
    }
   ],
   "source": [
    "final_df.info()"
   ]
  },
  {
   "cell_type": "code",
   "execution_count": 44,
   "id": "661da4d5",
   "metadata": {},
   "outputs": [
    {
     "name": "stdout",
     "output_type": "stream",
     "text": [
      "<class 'pandas.core.frame.DataFrame'>\n",
      "Int64Index: 13351 entries, 0 to 2670\n",
      "Data columns (total 14 columns):\n",
      " #   Column           Non-Null Count  Dtype  \n",
      "---  ------           --------------  -----  \n",
      " 0   Airline          13351 non-null  object \n",
      " 1   Source           13351 non-null  object \n",
      " 2   Destination      13351 non-null  object \n",
      " 3   Total_Stops      13350 non-null  float64\n",
      " 4   Additional_Info  13351 non-null  object \n",
      " 5   Price            10681 non-null  float64\n",
      " 6   Date             13351 non-null  int32  \n",
      " 7   Month            13351 non-null  int32  \n",
      " 8   Year             13351 non-null  int32  \n",
      " 9   Arrival_Hour     13351 non-null  int32  \n",
      " 10  Arrival_Min      13351 non-null  int32  \n",
      " 11  Departure_Hour   13351 non-null  int32  \n",
      " 12  Departure_Min    13351 non-null  int32  \n",
      " 13  Duration_Hour    13351 non-null  int32  \n",
      "dtypes: float64(2), int32(8), object(4)\n",
      "memory usage: 1.1+ MB\n"
     ]
    }
   ],
   "source": [
    "# Checking the data types of the dataframe.\n",
    "\n",
    "final_df.info()"
   ]
  },
  {
   "cell_type": "code",
   "execution_count": 45,
   "id": "ac62d9da",
   "metadata": {},
   "outputs": [
    {
     "data": {
      "text/plain": [
       "Index(['Airline', 'Source', 'Destination', 'Total_Stops', 'Additional_Info',\n",
       "       'Price', 'Date', 'Month', 'Year', 'Arrival_Hour', 'Arrival_Min',\n",
       "       'Departure_Hour', 'Departure_Min', 'Duration_Hour'],\n",
       "      dtype='object')"
      ]
     },
     "execution_count": 45,
     "metadata": {},
     "output_type": "execute_result"
    }
   ],
   "source": [
    "# Checking the columns of the dataset.\n",
    "\n",
    "final_df.columns"
   ]
  },
  {
   "cell_type": "code",
   "execution_count": 46,
   "id": "d52946e0",
   "metadata": {},
   "outputs": [
    {
     "data": {
      "text/plain": [
       "array(['IndiGo', 'Air India', 'Jet Airways', 'SpiceJet',\n",
       "       'Multiple carriers', 'GoAir', 'Vistara', 'Air Asia',\n",
       "       'Vistara Premium economy', 'Jet Airways Business',\n",
       "       'Multiple carriers Premium economy', 'Trujet'], dtype=object)"
      ]
     },
     "execution_count": 46,
     "metadata": {},
     "output_type": "execute_result"
    }
   ],
   "source": [
    "# Printing unique values of 'Airline' column.\n",
    "\n",
    "final_df['Airline'].unique()"
   ]
  },
  {
   "cell_type": "code",
   "execution_count": 47,
   "id": "c7e85f43",
   "metadata": {},
   "outputs": [
    {
     "data": {
      "text/html": [
       "<div>\n",
       "<style scoped>\n",
       "    .dataframe tbody tr th:only-of-type {\n",
       "        vertical-align: middle;\n",
       "    }\n",
       "\n",
       "    .dataframe tbody tr th {\n",
       "        vertical-align: top;\n",
       "    }\n",
       "\n",
       "    .dataframe thead th {\n",
       "        text-align: right;\n",
       "    }\n",
       "</style>\n",
       "<table border=\"1\" class=\"dataframe\">\n",
       "  <thead>\n",
       "    <tr style=\"text-align: right;\">\n",
       "      <th></th>\n",
       "      <th>Airline</th>\n",
       "      <th>Source</th>\n",
       "      <th>Destination</th>\n",
       "      <th>Additional_Info</th>\n",
       "    </tr>\n",
       "  </thead>\n",
       "  <tbody>\n",
       "    <tr>\n",
       "      <th>0</th>\n",
       "      <td>IndiGo</td>\n",
       "      <td>Banglore</td>\n",
       "      <td>New Delhi</td>\n",
       "      <td>No info</td>\n",
       "    </tr>\n",
       "    <tr>\n",
       "      <th>1</th>\n",
       "      <td>Air India</td>\n",
       "      <td>Kolkata</td>\n",
       "      <td>Banglore</td>\n",
       "      <td>No info</td>\n",
       "    </tr>\n",
       "    <tr>\n",
       "      <th>2</th>\n",
       "      <td>Jet Airways</td>\n",
       "      <td>Delhi</td>\n",
       "      <td>Cochin</td>\n",
       "      <td>No info</td>\n",
       "    </tr>\n",
       "    <tr>\n",
       "      <th>3</th>\n",
       "      <td>IndiGo</td>\n",
       "      <td>Kolkata</td>\n",
       "      <td>Banglore</td>\n",
       "      <td>No info</td>\n",
       "    </tr>\n",
       "    <tr>\n",
       "      <th>4</th>\n",
       "      <td>IndiGo</td>\n",
       "      <td>Banglore</td>\n",
       "      <td>New Delhi</td>\n",
       "      <td>No info</td>\n",
       "    </tr>\n",
       "  </tbody>\n",
       "</table>\n",
       "</div>"
      ],
      "text/plain": [
       "       Airline    Source Destination Additional_Info\n",
       "0       IndiGo  Banglore   New Delhi         No info\n",
       "1    Air India   Kolkata    Banglore         No info\n",
       "2  Jet Airways     Delhi      Cochin         No info\n",
       "3       IndiGo   Kolkata    Banglore         No info\n",
       "4       IndiGo  Banglore   New Delhi         No info"
      ]
     },
     "execution_count": 47,
     "metadata": {},
     "output_type": "execute_result"
    }
   ],
   "source": [
    "# Making dataframe consisting of only categorical variables.\n",
    "\n",
    "final_df1 = final_df.select_dtypes(exclude=['int', 'float'])\n",
    "final_df1.head()"
   ]
  },
  {
   "cell_type": "code",
   "execution_count": 48,
   "id": "74162c94",
   "metadata": {},
   "outputs": [
    {
     "name": "stdout",
     "output_type": "stream",
     "text": [
      "Unique Categories of column Airline are :\n",
      " ['IndiGo' 'Air India' 'Jet Airways' 'SpiceJet' 'Multiple carriers' 'GoAir'\n",
      " 'Vistara' 'Air Asia' 'Vistara Premium economy' 'Jet Airways Business'\n",
      " 'Multiple carriers Premium economy' 'Trujet']\n",
      "The value counts of column Airline are :\n",
      " Jet Airways                          4745\n",
      "IndiGo                               2564\n",
      "Air India                            2190\n",
      "Multiple carriers                    1543\n",
      "SpiceJet                             1026\n",
      "Vistara                               608\n",
      "Air Asia                              405\n",
      "GoAir                                 240\n",
      "Multiple carriers Premium economy      16\n",
      "Jet Airways Business                    8\n",
      "Vistara Premium economy                 5\n",
      "Trujet                                  1\n",
      "Name: Airline, dtype: int64\n",
      "\n",
      "\n",
      "Unique Categories of column Source are :\n",
      " ['Banglore' 'Kolkata' 'Delhi' 'Chennai' 'Mumbai']\n",
      "The value counts of column Source are :\n",
      " Delhi       5681\n",
      "Kolkata     3581\n",
      "Banglore    2752\n",
      "Mumbai       881\n",
      "Chennai      456\n",
      "Name: Source, dtype: int64\n",
      "\n",
      "\n",
      "Unique Categories of column Destination are :\n",
      " ['New Delhi' 'Banglore' 'Cochin' 'Kolkata' 'Delhi' 'Hyderabad']\n",
      "The value counts of column Destination are :\n",
      " Cochin       5681\n",
      "Banglore     3581\n",
      "Delhi        1582\n",
      "New Delhi    1170\n",
      "Hyderabad     881\n",
      "Kolkata       456\n",
      "Name: Destination, dtype: int64\n",
      "\n",
      "\n",
      "Unique Categories of column Additional_Info are :\n",
      " ['No info' 'In-flight meal not included' 'No check-in baggage included'\n",
      " '1 Short layover' 'No Info' '1 Long layover' 'Change airports'\n",
      " 'Business class' 'Red-eye flight' '2 Long layover']\n",
      "The value counts of column Additional_Info are :\n",
      " No info                         10490\n",
      "In-flight meal not included      2426\n",
      "No check-in baggage included      396\n",
      "1 Long layover                     20\n",
      "Change airports                     8\n",
      "Business class                      5\n",
      "No Info                             3\n",
      "1 Short layover                     1\n",
      "Red-eye flight                      1\n",
      "2 Long layover                      1\n",
      "Name: Additional_Info, dtype: int64\n",
      "\n",
      "\n"
     ]
    }
   ],
   "source": [
    "# Checking unique categories of the categorical columns before encoding.\n",
    "\n",
    "for col in final_df1.columns:\n",
    "    print('Unique Categories of column {} are :\\n {}'.format(col,final_df1[col].unique())) \n",
    "    print('The value counts of column {} are :\\n {}'.format(col, final_df1[col].value_counts())) \n",
    "    print('\\n')"
   ]
  },
  {
   "cell_type": "code",
   "execution_count": 49,
   "id": "f8161f1c",
   "metadata": {},
   "outputs": [],
   "source": [
    "# Importing LabelEncoder from sklearn.preprocessing\n",
    "\n",
    "from sklearn.preprocessing import LabelEncoder\n",
    "labelencoder = LabelEncoder()"
   ]
  },
  {
   "cell_type": "code",
   "execution_count": 50,
   "id": "ac5e8eef",
   "metadata": {},
   "outputs": [],
   "source": [
    "# Performing labelencoder on categorical features of the data set.\n",
    "\n",
    "for col in final_df1.columns:\n",
    "    final_df1[col] = labelencoder.fit_transform(final_df[col])"
   ]
  },
  {
   "cell_type": "code",
   "execution_count": 51,
   "id": "e20bd0fc",
   "metadata": {},
   "outputs": [
    {
     "name": "stdout",
     "output_type": "stream",
     "text": [
      "Unique Categories of column Airline are :\n",
      " [ 3  1  4  8  6  2 10  0 11  5  7  9]\n",
      "The value counts of column Airline are :\n",
      " 4     4745\n",
      "3     2564\n",
      "1     2190\n",
      "6     1543\n",
      "8     1026\n",
      "10     608\n",
      "0      405\n",
      "2      240\n",
      "7       16\n",
      "5        8\n",
      "11       5\n",
      "9        1\n",
      "Name: Airline, dtype: int64\n",
      "\n",
      "\n",
      "Unique Categories of column Source are :\n",
      " [0 3 2 1 4]\n",
      "The value counts of column Source are :\n",
      " 2    5681\n",
      "3    3581\n",
      "0    2752\n",
      "4     881\n",
      "1     456\n",
      "Name: Source, dtype: int64\n",
      "\n",
      "\n",
      "Unique Categories of column Destination are :\n",
      " [5 0 1 4 2 3]\n",
      "The value counts of column Destination are :\n",
      " 1    5681\n",
      "0    3581\n",
      "2    1582\n",
      "5    1170\n",
      "3     881\n",
      "4     456\n",
      "Name: Destination, dtype: int64\n",
      "\n",
      "\n",
      "Unique Categories of column Additional_Info are :\n",
      " [8 5 7 1 6 0 4 3 9 2]\n",
      "The value counts of column Additional_Info are :\n",
      " 8    10490\n",
      "5     2426\n",
      "7      396\n",
      "0       20\n",
      "4        8\n",
      "3        5\n",
      "6        3\n",
      "1        1\n",
      "9        1\n",
      "2        1\n",
      "Name: Additional_Info, dtype: int64\n",
      "\n",
      "\n"
     ]
    }
   ],
   "source": [
    "# Checking the unique values and count after label encoding.\n",
    "\n",
    "for col in final_df1.columns:\n",
    "    print('Unique Categories of column {} are :\\n {}'.format(col,final_df1[col].unique())) \n",
    "    print('The value counts of column {} are :\\n {}'.format(col, final_df1[col].value_counts())) \n",
    "    print('\\n')"
   ]
  },
  {
   "cell_type": "code",
   "execution_count": 52,
   "id": "410eaac6",
   "metadata": {},
   "outputs": [],
   "source": [
    "# Dropping the categorical columns from final_df.\n",
    "\n",
    "final_df.drop(final_df.loc[:, ['Airline','Source','Destination','Additional_Info']], axis=1, inplace=True)"
   ]
  },
  {
   "cell_type": "code",
   "execution_count": 53,
   "id": "013b0c1a",
   "metadata": {},
   "outputs": [],
   "source": [
    "# Now merging data frames.\n",
    "\n",
    "final_df = pd.concat([final_df,final_df1],axis=1,)"
   ]
  },
  {
   "cell_type": "code",
   "execution_count": 54,
   "id": "fea1a651",
   "metadata": {},
   "outputs": [
    {
     "data": {
      "text/html": [
       "<div>\n",
       "<style scoped>\n",
       "    .dataframe tbody tr th:only-of-type {\n",
       "        vertical-align: middle;\n",
       "    }\n",
       "\n",
       "    .dataframe tbody tr th {\n",
       "        vertical-align: top;\n",
       "    }\n",
       "\n",
       "    .dataframe thead th {\n",
       "        text-align: right;\n",
       "    }\n",
       "</style>\n",
       "<table border=\"1\" class=\"dataframe\">\n",
       "  <thead>\n",
       "    <tr style=\"text-align: right;\">\n",
       "      <th></th>\n",
       "      <th>Total_Stops</th>\n",
       "      <th>Price</th>\n",
       "      <th>Date</th>\n",
       "      <th>Month</th>\n",
       "      <th>Year</th>\n",
       "      <th>Arrival_Hour</th>\n",
       "      <th>Arrival_Min</th>\n",
       "      <th>Departure_Hour</th>\n",
       "      <th>Departure_Min</th>\n",
       "      <th>Duration_Hour</th>\n",
       "      <th>Airline</th>\n",
       "      <th>Source</th>\n",
       "      <th>Destination</th>\n",
       "      <th>Additional_Info</th>\n",
       "    </tr>\n",
       "  </thead>\n",
       "  <tbody>\n",
       "    <tr>\n",
       "      <th>0</th>\n",
       "      <td>0.0</td>\n",
       "      <td>3897.0</td>\n",
       "      <td>24</td>\n",
       "      <td>3</td>\n",
       "      <td>2019</td>\n",
       "      <td>1</td>\n",
       "      <td>10</td>\n",
       "      <td>22</td>\n",
       "      <td>20</td>\n",
       "      <td>2</td>\n",
       "      <td>3</td>\n",
       "      <td>0</td>\n",
       "      <td>5</td>\n",
       "      <td>8</td>\n",
       "    </tr>\n",
       "    <tr>\n",
       "      <th>1</th>\n",
       "      <td>2.0</td>\n",
       "      <td>7662.0</td>\n",
       "      <td>1</td>\n",
       "      <td>5</td>\n",
       "      <td>2019</td>\n",
       "      <td>13</td>\n",
       "      <td>15</td>\n",
       "      <td>5</td>\n",
       "      <td>50</td>\n",
       "      <td>7</td>\n",
       "      <td>1</td>\n",
       "      <td>3</td>\n",
       "      <td>0</td>\n",
       "      <td>8</td>\n",
       "    </tr>\n",
       "    <tr>\n",
       "      <th>2</th>\n",
       "      <td>2.0</td>\n",
       "      <td>13882.0</td>\n",
       "      <td>9</td>\n",
       "      <td>6</td>\n",
       "      <td>2019</td>\n",
       "      <td>4</td>\n",
       "      <td>25</td>\n",
       "      <td>9</td>\n",
       "      <td>25</td>\n",
       "      <td>19</td>\n",
       "      <td>4</td>\n",
       "      <td>2</td>\n",
       "      <td>1</td>\n",
       "      <td>8</td>\n",
       "    </tr>\n",
       "    <tr>\n",
       "      <th>3</th>\n",
       "      <td>1.0</td>\n",
       "      <td>6218.0</td>\n",
       "      <td>12</td>\n",
       "      <td>5</td>\n",
       "      <td>2019</td>\n",
       "      <td>23</td>\n",
       "      <td>30</td>\n",
       "      <td>18</td>\n",
       "      <td>5</td>\n",
       "      <td>5</td>\n",
       "      <td>3</td>\n",
       "      <td>3</td>\n",
       "      <td>0</td>\n",
       "      <td>8</td>\n",
       "    </tr>\n",
       "    <tr>\n",
       "      <th>4</th>\n",
       "      <td>1.0</td>\n",
       "      <td>13302.0</td>\n",
       "      <td>1</td>\n",
       "      <td>3</td>\n",
       "      <td>2019</td>\n",
       "      <td>21</td>\n",
       "      <td>35</td>\n",
       "      <td>16</td>\n",
       "      <td>50</td>\n",
       "      <td>4</td>\n",
       "      <td>3</td>\n",
       "      <td>0</td>\n",
       "      <td>5</td>\n",
       "      <td>8</td>\n",
       "    </tr>\n",
       "  </tbody>\n",
       "</table>\n",
       "</div>"
      ],
      "text/plain": [
       "   Total_Stops    Price  Date  Month  Year  Arrival_Hour  Arrival_Min  \\\n",
       "0          0.0   3897.0    24      3  2019             1           10   \n",
       "1          2.0   7662.0     1      5  2019            13           15   \n",
       "2          2.0  13882.0     9      6  2019             4           25   \n",
       "3          1.0   6218.0    12      5  2019            23           30   \n",
       "4          1.0  13302.0     1      3  2019            21           35   \n",
       "\n",
       "   Departure_Hour  Departure_Min  Duration_Hour  Airline  Source  Destination  \\\n",
       "0              22             20              2        3       0            5   \n",
       "1               5             50              7        1       3            0   \n",
       "2               9             25             19        4       2            1   \n",
       "3              18              5              5        3       3            0   \n",
       "4              16             50              4        3       0            5   \n",
       "\n",
       "   Additional_Info  \n",
       "0                8  \n",
       "1                8  \n",
       "2                8  \n",
       "3                8  \n",
       "4                8  "
      ]
     },
     "execution_count": 54,
     "metadata": {},
     "output_type": "execute_result"
    }
   ],
   "source": [
    "# Checking the top 5 rows of the columns again.\n",
    "\n",
    "final_df.head()"
   ]
  },
  {
   "cell_type": "code",
   "execution_count": 56,
   "id": "44d445c7",
   "metadata": {},
   "outputs": [
    {
     "data": {
      "text/plain": [
       "(13351, 14)"
      ]
     },
     "execution_count": 56,
     "metadata": {},
     "output_type": "execute_result"
    }
   ],
   "source": [
    "# Checking the shape of the data set.\n",
    "\n",
    "final_df.shape"
   ]
  },
  {
   "cell_type": "code",
   "execution_count": null,
   "id": "d09b3c76",
   "metadata": {},
   "outputs": [],
   "source": [
    "# Importing OneHotEncoder from sklearn.preprocessing\n",
    "\n",
    "from sklearn.preprocessing import OneHotEncoder\n",
    "ohe = OneHotEncoder()"
   ]
  },
  {
   "cell_type": "code",
   "execution_count": 57,
   "id": "5c95ef9a",
   "metadata": {},
   "outputs": [
    {
     "data": {
      "text/plain": [
       "Index(['Total_Stops', 'Price', 'Date', 'Month', 'Year', 'Arrival_Hour',\n",
       "       'Arrival_Min', 'Departure_Hour', 'Departure_Min', 'Duration_Hour',\n",
       "       'Airline', 'Source', 'Destination', 'Additional_Info'],\n",
       "      dtype='object')"
      ]
     },
     "execution_count": 57,
     "metadata": {},
     "output_type": "execute_result"
    }
   ],
   "source": [
    "final_df.columns"
   ]
  },
  {
   "cell_type": "code",
   "execution_count": 59,
   "id": "29281273",
   "metadata": {},
   "outputs": [],
   "source": [
    "# Performing onehotencoding using get_dummies function of pandas.\n",
    "\n",
    "final_df = pd.get_dummies(final_df,columns=['Airline','Source','Destination','Additional_Info'],drop_first=True)"
   ]
  },
  {
   "cell_type": "code",
   "execution_count": 61,
   "id": "c9904ad0",
   "metadata": {},
   "outputs": [
    {
     "data": {
      "text/html": [
       "<div>\n",
       "<style scoped>\n",
       "    .dataframe tbody tr th:only-of-type {\n",
       "        vertical-align: middle;\n",
       "    }\n",
       "\n",
       "    .dataframe tbody tr th {\n",
       "        vertical-align: top;\n",
       "    }\n",
       "\n",
       "    .dataframe thead th {\n",
       "        text-align: right;\n",
       "    }\n",
       "</style>\n",
       "<table border=\"1\" class=\"dataframe\">\n",
       "  <thead>\n",
       "    <tr style=\"text-align: right;\">\n",
       "      <th></th>\n",
       "      <th>Total_Stops</th>\n",
       "      <th>Price</th>\n",
       "      <th>Date</th>\n",
       "      <th>Month</th>\n",
       "      <th>Year</th>\n",
       "      <th>Arrival_Hour</th>\n",
       "      <th>Arrival_Min</th>\n",
       "      <th>Departure_Hour</th>\n",
       "      <th>Departure_Min</th>\n",
       "      <th>Duration_Hour</th>\n",
       "      <th>...</th>\n",
       "      <th>Destination_5</th>\n",
       "      <th>Additional_Info_1</th>\n",
       "      <th>Additional_Info_2</th>\n",
       "      <th>Additional_Info_3</th>\n",
       "      <th>Additional_Info_4</th>\n",
       "      <th>Additional_Info_5</th>\n",
       "      <th>Additional_Info_6</th>\n",
       "      <th>Additional_Info_7</th>\n",
       "      <th>Additional_Info_8</th>\n",
       "      <th>Additional_Info_9</th>\n",
       "    </tr>\n",
       "  </thead>\n",
       "  <tbody>\n",
       "    <tr>\n",
       "      <th>0</th>\n",
       "      <td>0.0</td>\n",
       "      <td>3897.0</td>\n",
       "      <td>24</td>\n",
       "      <td>3</td>\n",
       "      <td>2019</td>\n",
       "      <td>1</td>\n",
       "      <td>10</td>\n",
       "      <td>22</td>\n",
       "      <td>20</td>\n",
       "      <td>2</td>\n",
       "      <td>...</td>\n",
       "      <td>1</td>\n",
       "      <td>0</td>\n",
       "      <td>0</td>\n",
       "      <td>0</td>\n",
       "      <td>0</td>\n",
       "      <td>0</td>\n",
       "      <td>0</td>\n",
       "      <td>0</td>\n",
       "      <td>1</td>\n",
       "      <td>0</td>\n",
       "    </tr>\n",
       "    <tr>\n",
       "      <th>1</th>\n",
       "      <td>2.0</td>\n",
       "      <td>7662.0</td>\n",
       "      <td>1</td>\n",
       "      <td>5</td>\n",
       "      <td>2019</td>\n",
       "      <td>13</td>\n",
       "      <td>15</td>\n",
       "      <td>5</td>\n",
       "      <td>50</td>\n",
       "      <td>7</td>\n",
       "      <td>...</td>\n",
       "      <td>0</td>\n",
       "      <td>0</td>\n",
       "      <td>0</td>\n",
       "      <td>0</td>\n",
       "      <td>0</td>\n",
       "      <td>0</td>\n",
       "      <td>0</td>\n",
       "      <td>0</td>\n",
       "      <td>1</td>\n",
       "      <td>0</td>\n",
       "    </tr>\n",
       "    <tr>\n",
       "      <th>2</th>\n",
       "      <td>2.0</td>\n",
       "      <td>13882.0</td>\n",
       "      <td>9</td>\n",
       "      <td>6</td>\n",
       "      <td>2019</td>\n",
       "      <td>4</td>\n",
       "      <td>25</td>\n",
       "      <td>9</td>\n",
       "      <td>25</td>\n",
       "      <td>19</td>\n",
       "      <td>...</td>\n",
       "      <td>0</td>\n",
       "      <td>0</td>\n",
       "      <td>0</td>\n",
       "      <td>0</td>\n",
       "      <td>0</td>\n",
       "      <td>0</td>\n",
       "      <td>0</td>\n",
       "      <td>0</td>\n",
       "      <td>1</td>\n",
       "      <td>0</td>\n",
       "    </tr>\n",
       "    <tr>\n",
       "      <th>3</th>\n",
       "      <td>1.0</td>\n",
       "      <td>6218.0</td>\n",
       "      <td>12</td>\n",
       "      <td>5</td>\n",
       "      <td>2019</td>\n",
       "      <td>23</td>\n",
       "      <td>30</td>\n",
       "      <td>18</td>\n",
       "      <td>5</td>\n",
       "      <td>5</td>\n",
       "      <td>...</td>\n",
       "      <td>0</td>\n",
       "      <td>0</td>\n",
       "      <td>0</td>\n",
       "      <td>0</td>\n",
       "      <td>0</td>\n",
       "      <td>0</td>\n",
       "      <td>0</td>\n",
       "      <td>0</td>\n",
       "      <td>1</td>\n",
       "      <td>0</td>\n",
       "    </tr>\n",
       "    <tr>\n",
       "      <th>4</th>\n",
       "      <td>1.0</td>\n",
       "      <td>13302.0</td>\n",
       "      <td>1</td>\n",
       "      <td>3</td>\n",
       "      <td>2019</td>\n",
       "      <td>21</td>\n",
       "      <td>35</td>\n",
       "      <td>16</td>\n",
       "      <td>50</td>\n",
       "      <td>4</td>\n",
       "      <td>...</td>\n",
       "      <td>1</td>\n",
       "      <td>0</td>\n",
       "      <td>0</td>\n",
       "      <td>0</td>\n",
       "      <td>0</td>\n",
       "      <td>0</td>\n",
       "      <td>0</td>\n",
       "      <td>0</td>\n",
       "      <td>1</td>\n",
       "      <td>0</td>\n",
       "    </tr>\n",
       "  </tbody>\n",
       "</table>\n",
       "<p>5 rows × 39 columns</p>\n",
       "</div>"
      ],
      "text/plain": [
       "   Total_Stops    Price  Date  Month  Year  Arrival_Hour  Arrival_Min  \\\n",
       "0          0.0   3897.0    24      3  2019             1           10   \n",
       "1          2.0   7662.0     1      5  2019            13           15   \n",
       "2          2.0  13882.0     9      6  2019             4           25   \n",
       "3          1.0   6218.0    12      5  2019            23           30   \n",
       "4          1.0  13302.0     1      3  2019            21           35   \n",
       "\n",
       "   Departure_Hour  Departure_Min  Duration_Hour  ...  Destination_5  \\\n",
       "0              22             20              2  ...              1   \n",
       "1               5             50              7  ...              0   \n",
       "2               9             25             19  ...              0   \n",
       "3              18              5              5  ...              0   \n",
       "4              16             50              4  ...              1   \n",
       "\n",
       "   Additional_Info_1  Additional_Info_2  Additional_Info_3  Additional_Info_4  \\\n",
       "0                  0                  0                  0                  0   \n",
       "1                  0                  0                  0                  0   \n",
       "2                  0                  0                  0                  0   \n",
       "3                  0                  0                  0                  0   \n",
       "4                  0                  0                  0                  0   \n",
       "\n",
       "   Additional_Info_5  Additional_Info_6  Additional_Info_7  Additional_Info_8  \\\n",
       "0                  0                  0                  0                  1   \n",
       "1                  0                  0                  0                  1   \n",
       "2                  0                  0                  0                  1   \n",
       "3                  0                  0                  0                  1   \n",
       "4                  0                  0                  0                  1   \n",
       "\n",
       "   Additional_Info_9  \n",
       "0                  0  \n",
       "1                  0  \n",
       "2                  0  \n",
       "3                  0  \n",
       "4                  0  \n",
       "\n",
       "[5 rows x 39 columns]"
      ]
     },
     "execution_count": 61,
     "metadata": {},
     "output_type": "execute_result"
    }
   ],
   "source": [
    "final_df.head()"
   ]
  },
  {
   "cell_type": "code",
   "execution_count": null,
   "id": "a56ff8bf",
   "metadata": {},
   "outputs": [],
   "source": []
  }
 ],
 "metadata": {
  "kernelspec": {
   "display_name": "Python 3 (ipykernel)",
   "language": "python",
   "name": "python3"
  },
  "language_info": {
   "codemirror_mode": {
    "name": "ipython",
    "version": 3
   },
   "file_extension": ".py",
   "mimetype": "text/x-python",
   "name": "python",
   "nbconvert_exporter": "python",
   "pygments_lexer": "ipython3",
   "version": "3.9.12"
  }
 },
 "nbformat": 4,
 "nbformat_minor": 5
}
